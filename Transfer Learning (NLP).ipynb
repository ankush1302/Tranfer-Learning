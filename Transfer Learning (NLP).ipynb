{
 "cells": [
  {
   "cell_type": "code",
   "execution_count": 1,
   "id": "e198e964",
   "metadata": {},
   "outputs": [],
   "source": [
    "import numpy as np\n",
    "import pandas as pd\n",
    "\n",
    "import tensorflow as tf\n",
    "import tensorflow_hub as hub\n",
    "\n",
    "\n",
    "import matplotlib.pyplot as plt\n",
    "plt.rcParams['figure.figsize'] = (12, 8)\n",
    "from  IPython import display\n",
    "\n",
    "from tensorflow import keras\n",
    "from tensorflow.keras import layers\n"
   ]
  },
  {
   "cell_type": "code",
   "execution_count": 2,
   "id": "bba27d4f",
   "metadata": {},
   "outputs": [
    {
     "name": "stdout",
     "output_type": "stream",
     "text": [
      "(1306122, 3)\n"
     ]
    },
    {
     "data": {
      "text/html": [
       "<div>\n",
       "<style scoped>\n",
       "    .dataframe tbody tr th:only-of-type {\n",
       "        vertical-align: middle;\n",
       "    }\n",
       "\n",
       "    .dataframe tbody tr th {\n",
       "        vertical-align: top;\n",
       "    }\n",
       "\n",
       "    .dataframe thead th {\n",
       "        text-align: right;\n",
       "    }\n",
       "</style>\n",
       "<table border=\"1\" class=\"dataframe\">\n",
       "  <thead>\n",
       "    <tr style=\"text-align: right;\">\n",
       "      <th></th>\n",
       "      <th>qid</th>\n",
       "      <th>question_text</th>\n",
       "      <th>target</th>\n",
       "    </tr>\n",
       "  </thead>\n",
       "  <tbody>\n",
       "    <tr>\n",
       "      <th>0</th>\n",
       "      <td>00002165364db923c7e6</td>\n",
       "      <td>How did Quebec nationalists see their province...</td>\n",
       "      <td>0</td>\n",
       "    </tr>\n",
       "    <tr>\n",
       "      <th>1</th>\n",
       "      <td>000032939017120e6e44</td>\n",
       "      <td>Do you have an adopted dog, how would you enco...</td>\n",
       "      <td>0</td>\n",
       "    </tr>\n",
       "  </tbody>\n",
       "</table>\n",
       "</div>"
      ],
      "text/plain": [
       "                    qid                                      question_text  \\\n",
       "0  00002165364db923c7e6  How did Quebec nationalists see their province...   \n",
       "1  000032939017120e6e44  Do you have an adopted dog, how would you enco...   \n",
       "\n",
       "   target  \n",
       "0       0  \n",
       "1       0  "
      ]
     },
     "execution_count": 2,
     "metadata": {},
     "output_type": "execute_result"
    }
   ],
   "source": [
    "df=pd.read_csv('train.csv')\n",
    "print(df.shape)\n",
    "\n",
    "df.head(2)"
   ]
  },
  {
   "cell_type": "code",
   "execution_count": 3,
   "id": "04e58e62",
   "metadata": {},
   "outputs": [
    {
     "data": {
      "text/plain": [
       "(array([1225312.,       0.,       0.,       0.,       0.,       0.,\n",
       "              0.,       0.,       0.,   80810.]),\n",
       " array([0. , 0.1, 0.2, 0.3, 0.4, 0.5, 0.6, 0.7, 0.8, 0.9, 1. ]),\n",
       " <BarContainer object of 10 artists>)"
      ]
     },
     "execution_count": 3,
     "metadata": {},
     "output_type": "execute_result"
    },
    {
     "data": {
      "image/png": "[encoded data removed]",
      "text/plain": [
       "<Figure size 864x576 with 1 Axes>"
      ]
     },
     "metadata": {
      "needs_background": "light"
     },
     "output_type": "display_data"
    }
   ],
   "source": [
    "plt.hist(x=df['target'])"
   ]
  },
  {
   "cell_type": "code",
   "execution_count": 4,
   "id": "13713608",
   "metadata": {},
   "outputs": [
    {
     "data": {
      "text/plain": [
       "array([['0000e91571b60c2fb487',\n",
       "        'Has the United States become the largest dictatorship in the world?',\n",
       "        1]], dtype=object)"
      ]
     },
     "execution_count": 4,
     "metadata": {},
     "output_type": "execute_result"
    }
   ],
   "source": [
    "df[df['target']==1].head(1).values"
   ]
  },
  {
   "cell_type": "code",
   "execution_count": 5,
   "id": "607cc912",
   "metadata": {},
   "outputs": [
    {
     "data": {
      "text/plain": [
       "((13061, 3), (1293, 3))"
      ]
     },
     "execution_count": 5,
     "metadata": {},
     "output_type": "execute_result"
    }
   ],
   "source": [
    "from sklearn.model_selection import train_test_split\n",
    "\n",
    "df_train,remaining = train_test_split(df, train_size=0.01, random_state=42)\n",
    "df_validation,_ = train_test_split(remaining, train_size=0.001, random_state=42)\n",
    "df_train.shape,df_validation.shape"
   ]
  },
  {
   "cell_type": "markdown",
   "id": "79248b22",
   "metadata": {},
   "source": [
    "considering a trained model from tensorflow hub for embed the text data :\n",
    "\"https://tfhub.dev/google/nnlm-en-dim128/2\" which produces the output of vector array of length 128"
   ]
  },
  {
   "cell_type": "code",
   "execution_count": 6,
   "id": "14927234",
   "metadata": {},
   "outputs": [],
   "source": [
    "embed = hub.load(\"https://tfhub.dev/google/nnlm-en-dim128/2\")\n",
    "embeddings = embed([\"cat is on the mat\"])"
   ]
  },
  {
   "cell_type": "code",
   "execution_count": 7,
   "id": "e186f76a",
   "metadata": {},
   "outputs": [
    {
     "data": {
      "text/plain": [
       "<tf.Tensor: shape=(1, 128), dtype=float32, numpy=\n",
       "array([[ 0.27107972, -0.01055073, -0.05728397,  0.06853679, -0.08438271,\n",
       "         0.22396211, -0.00247001, -0.09797598, -0.06092518,  0.01678422,\n",
       "         0.0183306 , -0.02683547,  0.01987647,  0.02205245,  0.0380337 ,\n",
       "         0.02345292, -0.0535214 , -0.02916854, -0.13816142,  0.255649  ,\n",
       "         0.00548296,  0.08994407,  0.09702856, -0.01617393,  0.15273312,\n",
       "         0.03449007,  0.05599031,  0.01964826, -0.01901525,  0.11601479,\n",
       "         0.06575833, -0.03560898, -0.02412845, -0.00716866, -0.08950593,\n",
       "        -0.01021391,  0.07431487, -0.10462939, -0.03951982,  0.00272066,\n",
       "        -0.01468687, -0.01350653, -0.04825642,  0.03088917, -0.0448269 ,\n",
       "        -0.01743765,  0.1034883 ,  0.04149228, -0.03979184,  0.03878277,\n",
       "         0.15273733, -0.09228262, -0.01723959,  0.01830614, -0.02075483,\n",
       "         0.0800882 , -0.08071491, -0.15573218,  0.13893387,  0.06140287,\n",
       "        -0.05639812, -0.05526257, -0.02765993, -0.175832  ,  0.01034007,\n",
       "        -0.19550695,  0.06209265, -0.03193678,  0.08837268, -0.05629309,\n",
       "         0.09268684,  0.05395978, -0.01900527, -0.17626993, -0.03103094,\n",
       "        -0.12204378, -0.00157093, -0.07853678, -0.05892268,  0.11311311,\n",
       "         0.00749602,  0.17720635,  0.00705703, -0.02477936,  0.01754808,\n",
       "        -0.10708189,  0.01354044, -0.02276768,  0.18480518,  0.23878463,\n",
       "         0.02690842,  0.17486377,  0.15445334,  0.04336881,  0.10030321,\n",
       "         0.03473791,  0.13695279, -0.01135186,  0.10339782, -0.04216714,\n",
       "         0.15414187,  0.00816383, -0.09016436,  0.05382214, -0.00468258,\n",
       "        -0.03378959, -0.06590898,  0.03239544, -0.05416648,  0.00577813,\n",
       "         0.00359992, -0.1197789 ,  0.03960301, -0.09633037, -0.03632317,\n",
       "         0.04465347,  0.08645485,  0.03435422, -0.01637179, -0.02096656,\n",
       "         0.10808575, -0.09299634,  0.06655572, -0.04052928, -0.08087688,\n",
       "        -0.1576648 ,  0.03123586,  0.02210312]], dtype=float32)>"
      ]
     },
     "execution_count": 7,
     "metadata": {},
     "output_type": "execute_result"
    }
   ],
   "source": [
    "embeddings"
   ]
  },
  {
   "cell_type": "code",
   "execution_count": 8,
   "id": "9ac89d64",
   "metadata": {},
   "outputs": [],
   "source": [
    "hub_url='https://tfhub.dev/google/tf2-preview/nnlm-en-dim128/1'"
   ]
  },
  {
   "cell_type": "code",
   "execution_count": 9,
   "id": "318b480b",
   "metadata": {},
   "outputs": [],
   "source": [
    "hub_url_1='https://tfhub.dev/google/universal-sentence-encoder/4'"
   ]
  },
  {
   "cell_type": "code",
   "execution_count": 10,
   "id": "54f4f36e",
   "metadata": {},
   "outputs": [],
   "source": [
    "def model_evaluation(hub_url,embded_size,name,trainable=False):\n",
    "\n",
    "    hub_layer = hub.KerasLayer(hub_url,\n",
    "                               input_shape=[],output_shape=embded_size, dtype=tf.string,trainable=trainable)\n",
    "\n",
    "    model = keras.Sequential()\n",
    "    model.add(hub_layer)\n",
    "    model.add(keras.layers.Dense(256, activation='relu'))\n",
    "    model.add(keras.layers.Dense(64, activation='relu'))\n",
    "    model.add(keras.layers.Dense(1, activation='sigmoid'))\n",
    "\n",
    "    model.compile(optimizer=keras.optimizers.Adam(learning_rate=0.001),\n",
    "                  loss=tf.keras.losses.BinaryCrossentropy(),\n",
    "                  metrics=[keras.metrics.BinaryAccuracy(name='accuracy')])\n",
    "    model.summary()\n",
    "\n",
    "    history=model.fit(df_train['question_text'],df_train['target'],\n",
    "                      epochs=100,\n",
    "                      batch_size=32,\n",
    "                      validation_data=(df_validation['question_text'],df_validation['target']),\n",
    "                      callbacks=[tf.keras.callbacks.EarlyStopping(monitor='val_loss',patience=2)]\n",
    "                 )\n",
    "    return history\n"
   ]
  },
  {
   "cell_type": "code",
   "execution_count": 11,
   "id": "e5472ec3",
   "metadata": {},
   "outputs": [],
   "source": [
    "histories={}"
   ]
  },
  {
   "cell_type": "code",
   "execution_count": 12,
   "id": "7f90c702",
   "metadata": {},
   "outputs": [
    {
     "name": "stdout",
     "output_type": "stream",
     "text": [
      "Model: \"sequential\"\n",
      "_________________________________________________________________\n",
      "Layer (type)                 Output Shape              Param #   \n",
      "=================================================================\n",
      "keras_layer (KerasLayer)     (None, 128)               124642688 \n",
      "_________________________________________________________________\n",
      "dense (Dense)                (None, 256)               33024     \n",
      "_________________________________________________________________\n",
      "dense_1 (Dense)              (None, 64)                16448     \n",
      "_________________________________________________________________\n",
      "dense_2 (Dense)              (None, 1)                 65        \n",
      "=================================================================\n",
      "Total params: 124,692,225\n",
      "Trainable params: 49,537\n",
      "Non-trainable params: 124,642,688\n",
      "_________________________________________________________________\n",
      "Epoch 1/100\n",
      "409/409 [==============================] - 16s 12ms/step - loss: 0.1851 - accuracy: 0.9401 - val_loss: 0.1374 - val_accuracy: 0.9520\n",
      "Epoch 2/100\n",
      "409/409 [==============================] - 3s 7ms/step - loss: 0.1466 - accuracy: 0.9459 - val_loss: 0.1317 - val_accuracy: 0.9490\n",
      "Epoch 3/100\n",
      "409/409 [==============================] - 3s 8ms/step - loss: 0.1361 - accuracy: 0.9506 - val_loss: 0.1340 - val_accuracy: 0.9490\n",
      "Epoch 4/100\n",
      "409/409 [==============================] - 3s 8ms/step - loss: 0.1264 - accuracy: 0.9543 - val_loss: 0.1351 - val_accuracy: 0.9474\n"
     ]
    }
   ],
   "source": [
    "histories['nnlm-en-dim128']=model_evaluation(hub_url,128,'nnlm-en-dim128')"
   ]
  },
  {
   "cell_type": "code",
   "execution_count": 13,
   "id": "b9f333eb",
   "metadata": {},
   "outputs": [
    {
     "name": "stdout",
     "output_type": "stream",
     "text": [
      "Model: \"sequential_1\"\n",
      "_________________________________________________________________\n",
      "Layer (type)                 Output Shape              Param #   \n",
      "=================================================================\n",
      "keras_layer_1 (KerasLayer)   (None, 512)               256797824 \n",
      "_________________________________________________________________\n",
      "dense_3 (Dense)              (None, 256)               131328    \n",
      "_________________________________________________________________\n",
      "dense_4 (Dense)              (None, 64)                16448     \n",
      "_________________________________________________________________\n",
      "dense_5 (Dense)              (None, 1)                 65        \n",
      "=================================================================\n",
      "Total params: 256,945,665\n",
      "Trainable params: 147,841\n",
      "Non-trainable params: 256,797,824\n",
      "_________________________________________________________________\n",
      "Epoch 1/100\n",
      "409/409 [==============================] - 25s 22ms/step - loss: 0.1582 - accuracy: 0.9419 - val_loss: 0.1119 - val_accuracy: 0.9536\n",
      "Epoch 2/100\n",
      "409/409 [==============================] - 10s 23ms/step - loss: 0.1126 - accuracy: 0.9538 - val_loss: 0.1048 - val_accuracy: 0.9544\n",
      "Epoch 3/100\n",
      "409/409 [==============================] - 10s 25ms/step - loss: 0.0947 - accuracy: 0.9637 - val_loss: 0.1119 - val_accuracy: 0.9536\n",
      "Epoch 4/100\n",
      "409/409 [==============================] - 11s 26ms/step - loss: 0.0684 - accuracy: 0.9753 - val_loss: 0.1269 - val_accuracy: 0.9490\n"
     ]
    }
   ],
   "source": [
    "histories['universal-sentence-encoder']=model_evaluation(hub_url_1,512,'universal-sentence-encoder')"
   ]
  },
  {
   "cell_type": "code",
   "execution_count": 14,
   "id": "53d360f6",
   "metadata": {},
   "outputs": [
    {
     "data": {
      "text/plain": [
       "dict_keys(['loss', 'accuracy', 'val_loss', 'val_accuracy'])"
      ]
     },
     "execution_count": 14,
     "metadata": {},
     "output_type": "execute_result"
    }
   ],
   "source": [
    "histories['universal-sentence-encoder'].history.keys()"
   ]
  },
  {
   "cell_type": "code",
   "execution_count": 33,
   "id": "cf171043",
   "metadata": {},
   "outputs": [
    {
     "data": {
      "image/png": "[encoded data removed]",
      "text/plain": [
       "<Figure size 2160x720 with 1 Axes>"
      ]
     },
     "metadata": {
      "needs_background": "light"
     },
     "output_type": "display_data"
    }
   ],
   "source": [
    "plt.subplots(figsize=(30,10))\n",
    "plt.subplot(1, 2, 1)\n",
    "plt.plot(histories['universal-sentence-encoder'].history['accuracy'],color='green')\n",
    "plt.plot(histories['nnlm-en-dim128'].history['accuracy'],color='red')\n",
    "plt.plot(histories['universal-sentence-encoder'].history['val_accuracy'],color='green',linestyle='dashed')\n",
    "plt.plot(histories['nnlm-en-dim128'].history['val_accuracy'],color='red',linestyle='dashed')\n",
    "plt.title('model accuracy')\n",
    "plt.ylabel('accuracy')\n",
    "plt.xlabel('epoch')\n",
    "plt.legend(['universal-sentence-encoder(512)', 'nnlm-en-dim128','val_universal-sentence-encoder(512)', 'val_nnlm-en-dim128'], loc='upper left')\n",
    "plt.show()\n",
    "\n",
    "# plt.subplot(1, 2, 2)\n",
    "# plt.plot(histories['universal-sentence-encoder'].history['loss'])\n",
    "# plt.plot(histories['nnlm-en-dim128'].history['loss'])\n",
    "# plt.title('model loss')\n",
    "# plt.ylabel('loss')\n",
    "# plt.xlabel('epoch')\n",
    "# plt.legend(['universal-sentence-encoder(512)', 'nnlm-en-dim128'])\n",
    "# plt.show()\n"
   ]
  },
  {
   "cell_type": "markdown",
   "id": "985ceb9e",
   "metadata": {},
   "source": [
    "## __Fine Tuning :__\n",
    "\n",
    "Training the "
   ]
  },
  {
   "cell_type": "code",
   "execution_count": null,
   "id": "d54f13f7",
   "metadata": {},
   "outputs": [
    {
     "name": "stdout",
     "output_type": "stream",
     "text": [
      "Model: \"sequential_2\"\n",
      "_________________________________________________________________\n",
      "Layer (type)                 Output Shape              Param #   \n",
      "=================================================================\n",
      "keras_layer_2 (KerasLayer)   (None, 128)               124642688 \n",
      "_________________________________________________________________\n",
      "dense_6 (Dense)              (None, 256)               33024     \n",
      "_________________________________________________________________\n",
      "dense_7 (Dense)              (None, 64)                16448     \n",
      "_________________________________________________________________\n",
      "dense_8 (Dense)              (None, 1)                 65        \n",
      "=================================================================\n",
      "Total params: 124,692,225\n",
      "Trainable params: 124,692,225\n",
      "Non-trainable params: 0\n",
      "_________________________________________________________________\n",
      "Epoch 1/100\n",
      "409/409 [==============================] - 1049s 2s/step - loss: 0.1803 - accuracy: 0.9417 - val_loss: 0.1367 - val_accuracy: 0.9505\n",
      "Epoch 2/100\n",
      "409/409 [==============================] - 840s 2s/step - loss: 0.0816 - accuracy: 0.9695 - val_loss: 0.1796 - val_accuracy: 0.9428\n",
      "Epoch 3/100\n",
      " 65/409 [===>..........................] - ETA: 11:45 - loss: 0.0295 - accuracy: 0.9909"
     ]
    }
   ],
   "source": [
    "histories['fine-tuned_nnlm-en-dim128']=model_evaluation(hub_url,128,'nnlm-en-dim128',trainable=True)"
   ]
  },
  {
   "cell_type": "code",
   "execution_count": null,
   "id": "9039317d",
   "metadata": {},
   "outputs": [],
   "source": []
  }
 ],
 "metadata": {
  "kernelspec": {
   "display_name": "Python 3",
   "language": "python",
   "name": "python3"
  },
  "language_info": {
   "codemirror_mode": {
    "name": "ipython",
    "version": 3
   },
   "file_extension": ".py",
   "mimetype": "text/x-python",
   "name": "python",
   "nbconvert_exporter": "python",
   "pygments_lexer": "ipython3",
   "version": "3.7.10"
  }
 },
 "nbformat": 4,
 "nbformat_minor": 5
}
